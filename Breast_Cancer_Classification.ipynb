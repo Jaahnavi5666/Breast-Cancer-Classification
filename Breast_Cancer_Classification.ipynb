{
  "nbformat": 4,
  "nbformat_minor": 0,
  "metadata": {
    "colab": {
      "provenance": [],
      "mount_file_id": "1tYS6AlKabky2kbs5o6AMNyhah-M9hEgy",
      "authorship_tag": "ABX9TyPGJi6JwK0K4ETi3knAnl78",
      "include_colab_link": true
    },
    "kernelspec": {
      "name": "python3",
      "display_name": "Python 3"
    },
    "language_info": {
      "name": "python"
    }
  },
  "cells": [
    {
      "cell_type": "markdown",
      "metadata": {
        "id": "view-in-github",
        "colab_type": "text"
      },
      "source": [
        "<a href=\"https://colab.research.google.com/github/Jaahnavi5666/Breast-Cancer-Classification/blob/main/Breast_Cancer_Classification.ipynb\" target=\"_parent\"><img src=\"https://colab.research.google.com/assets/colab-badge.svg\" alt=\"Open In Colab\"/></a>"
      ]
    },
    {
      "cell_type": "markdown",
      "source": [
        "## Libraries required"
      ],
      "metadata": {
        "id": "3q33dBWlWMgc"
      }
    },
    {
      "cell_type": "code",
      "execution_count": 1,
      "metadata": {
        "id": "rSHVttT1VVPl"
      },
      "outputs": [],
      "source": [
        "import numpy as np\n",
        "import pandas as pd\n",
        "from sklearn.model_selection import train_test_split\n",
        "from sklearn.preprocessing import StandardScaler\n",
        "from sklearn.linear_model import LogisticRegression\n",
        "from sklearn.svm import SVC\n",
        "from sklearn.neural_network import MLPClassifier\n",
        "from sklearn.metrics import accuracy_score, classification_report"
      ]
    },
    {
      "cell_type": "markdown",
      "source": [
        "## Data Processing"
      ],
      "metadata": {
        "id": "-dyTa17Fa-py"
      }
    },
    {
      "cell_type": "code",
      "source": [
        "# Loading the dataset\n",
        "df = pd.read_csv('/content/drive/MyDrive/20EE10033_A1/breast cancer.csv')\n",
        "\n",
        "# Preprocessing the data\n",
        "X = df.iloc[:, 2:]  # Features\n",
        "y = df['diagnosis'].map({'M': 1, 'B': 0})  # Convert labels to 0 and 1\n",
        "\n",
        "# Spliting the data into training and testing sets\n",
        "X_train, X_test, y_train, y_test = train_test_split(X, y, test_size=0.2, random_state=42)\n",
        "\n",
        "# Standardizing features\n",
        "scaler = StandardScaler()\n",
        "X_train = scaler.fit_transform(X_train)\n",
        "X_test = scaler.transform(X_test)"
      ],
      "metadata": {
        "colab": {
          "base_uri": "https://localhost:8080/"
        },
        "id": "3ADSmCS7Vhzc",
        "outputId": "aaaca119-30ca-4dc8-e96e-48f8011cf7d8"
      },
      "execution_count": 6,
      "outputs": [
        {
          "output_type": "stream",
          "name": "stderr",
          "text": [
            "/usr/local/lib/python3.10/dist-packages/sklearn/utils/extmath.py:1047: RuntimeWarning: invalid value encountered in divide\n",
            "  updated_mean = (last_sum + new_sum) / updated_sample_count\n",
            "/usr/local/lib/python3.10/dist-packages/sklearn/utils/extmath.py:1052: RuntimeWarning: invalid value encountered in divide\n",
            "  T = new_sum / new_sample_count\n",
            "/usr/local/lib/python3.10/dist-packages/sklearn/utils/extmath.py:1072: RuntimeWarning: invalid value encountered in divide\n",
            "  new_unnormalized_variance -= correction**2 / new_sample_count\n"
          ]
        }
      ]
    },
    {
      "cell_type": "markdown",
      "source": [
        "## Data Cleaning"
      ],
      "metadata": {
        "id": "eqmI2TZibE3j"
      }
    },
    {
      "cell_type": "code",
      "source": [
        "print(np.isnan(X_train).sum())"
      ],
      "metadata": {
        "colab": {
          "base_uri": "https://localhost:8080/"
        },
        "id": "3HzzcKpXZSDb",
        "outputId": "0493405d-cdae-4340-eae5-66949fa40303"
      },
      "execution_count": 8,
      "outputs": [
        {
          "output_type": "stream",
          "name": "stdout",
          "text": [
            "455\n"
          ]
        }
      ]
    },
    {
      "cell_type": "code",
      "source": [
        "from sklearn.impute import SimpleImputer\n",
        "imputer = SimpleImputer(strategy='mean')\n",
        "X_train_imputed = imputer.fit_transform(X_train)\n",
        "X_test_imputed = imputer.transform(X_test)\n",
        "\n",
        "# Identify and remove rows with missing values in labels\n",
        "missing_rows_train = np.isnan(X_train_imputed).any(axis=1)\n",
        "missing_rows_test = np.isnan(X_test_imputed).any(axis=1)\n",
        "\n",
        "X_train = X_train_imputed[~missing_rows_train]\n",
        "y_train = y_train[~missing_rows_train]\n",
        "\n",
        "X_test = X_test_imputed[~missing_rows_test]\n",
        "y_test = y_test[~missing_rows_test]"
      ],
      "metadata": {
        "id": "MOLlx3UxZsLu"
      },
      "execution_count": 10,
      "outputs": []
    },
    {
      "cell_type": "markdown",
      "source": [
        "## Logistic Regression"
      ],
      "metadata": {
        "id": "NOaI30TadHWO"
      }
    },
    {
      "cell_type": "code",
      "source": [
        "def sigmoid(z):\n",
        "    return 1 / (1 + np.exp(-z))\n",
        "\n",
        "def cost_function(y, y_pred):\n",
        "    m = len(y)\n",
        "    return -1/m * np.sum(y * np.log(y_pred) + (1 - y) * np.log(1 - y_pred))\n",
        "\n",
        "def gradient_descent(X, y, alpha, epochs):\n",
        "    m, n = X.shape\n",
        "    X = np.insert(X, 0, 1, axis=1)  # Add bias term\n",
        "    theta = np.zeros(n + 1)\n",
        "\n",
        "    for _ in range(epochs):\n",
        "        z = np.dot(X, theta)\n",
        "        h = sigmoid(z)\n",
        "        gradient = np.dot(X.T, (h - y)) / m\n",
        "        theta -= alpha * gradient\n",
        "\n",
        "    return theta\n",
        "\n",
        "# Train logistic regression model\n",
        "theta_logistic = gradient_descent(X_train, y_train, alpha=0.01, epochs=1000)\n",
        "\n",
        "# Predict using logistic regression model\n",
        "X_test_with_bias = np.insert(X_test, 0, 1, axis=1)\n",
        "y_pred_logistic = sigmoid(np.dot(X_test_with_bias, theta_logistic))\n",
        "y_pred_logistic = np.round(y_pred_logistic)"
      ],
      "metadata": {
        "id": "O0Tb4t2WViNl"
      },
      "execution_count": 11,
      "outputs": []
    },
    {
      "cell_type": "markdown",
      "source": [
        "## Support Vector Machine"
      ],
      "metadata": {
        "id": "3j_rziwydeL1"
      }
    },
    {
      "cell_type": "code",
      "source": [
        "svm_model = SVC(kernel='rbf')\n",
        "svm_model.fit(X_train, y_train)\n",
        "y_pred_svm = svm_model.predict(X_test)"
      ],
      "metadata": {
        "id": "qb2tzy0SViYd"
      },
      "execution_count": 18,
      "outputs": []
    },
    {
      "cell_type": "markdown",
      "source": [
        "## Neural Network"
      ],
      "metadata": {
        "id": "yOXa17Uodkdu"
      }
    },
    {
      "cell_type": "code",
      "source": [
        "nn_model = MLPClassifier(hidden_layer_sizes=(100,), max_iter=500)\n",
        "nn_model.fit(X_train, y_train)\n",
        "y_pred_nn = nn_model.predict(X_test)"
      ],
      "metadata": {
        "id": "1LBKnXQqV73B"
      },
      "execution_count": 28,
      "outputs": []
    },
    {
      "cell_type": "markdown",
      "source": [
        "## Accuracy Calculation"
      ],
      "metadata": {
        "id": "MwLO7in5dt0N"
      }
    },
    {
      "cell_type": "code",
      "source": [
        "accuracy_logistic = accuracy_score(y_test, y_pred_logistic)\n",
        "accuracy_svm = accuracy_score(y_test, y_pred_svm)\n",
        "accuracy_nn = accuracy_score(y_test, y_pred_nn)\n",
        "print(\"Logistic Regression Accuracy:\", accuracy_logistic)\n",
        "print(\"SVM Accuracy:\", accuracy_svm)\n",
        "print(\"Neural Network Accuracy:\", accuracy_nn)"
      ],
      "metadata": {
        "colab": {
          "base_uri": "https://localhost:8080/"
        },
        "id": "prPdtChZV_w0",
        "outputId": "10fb8a22-7372-49ba-9603-f459245e64c1"
      },
      "execution_count": 27,
      "outputs": [
        {
          "output_type": "stream",
          "name": "stdout",
          "text": [
            "Logistic Regression Accuracy: 0.9824561403508771\n",
            "SVM Accuracy: 0.9824561403508771\n",
            "Neural Network Accuracy: 0.9736842105263158\n"
          ]
        }
      ]
    }
  ]
}